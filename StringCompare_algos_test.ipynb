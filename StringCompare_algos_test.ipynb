{
 "cells": [
  {
   "cell_type": "code",
   "execution_count": 1,
   "metadata": {},
   "outputs": [
    {
     "name": "stdout",
     "output_type": "stream",
     "text": [
      "Collecting fuzzywuzzy\n",
      "  Using cached fuzzywuzzy-0.18.0-py2.py3-none-any.whl (18 kB)\n",
      "Installing collected packages: fuzzywuzzy\n",
      "Successfully installed fuzzywuzzy-0.18.0\n",
      "\n",
      "\u001b[1m[\u001b[0m\u001b[34;49mnotice\u001b[0m\u001b[1;39;49m]\u001b[0m\u001b[39;49m A new release of pip is available: \u001b[0m\u001b[31;49m23.2.1\u001b[0m\u001b[39;49m -> \u001b[0m\u001b[32;49m24.0\u001b[0m\n",
      "\u001b[1m[\u001b[0m\u001b[34;49mnotice\u001b[0m\u001b[1;39;49m]\u001b[0m\u001b[39;49m To update, run: \u001b[0m\u001b[32;49mpip3 install --upgrade pip\u001b[0m\n",
      "Note: you may need to restart the kernel to use updated packages.\n"
     ]
    }
   ],
   "source": [
    "pip install fuzzywuzzy"
   ]
  },
  {
   "cell_type": "code",
   "execution_count": 2,
   "metadata": {},
   "outputs": [
    {
     "name": "stdout",
     "output_type": "stream",
     "text": [
      "Match Score: 95\n"
     ]
    },
    {
     "name": "stderr",
     "output_type": "stream",
     "text": [
      "/Library/Frameworks/Python.framework/Versions/3.11/lib/python3.11/site-packages/fuzzywuzzy/fuzz.py:11: UserWarning: Using slow pure-python SequenceMatcher. Install python-Levenshtein to remove this warning\n",
      "  warnings.warn('Using slow pure-python SequenceMatcher. Install python-Levenshtein to remove this warning')\n"
     ]
    }
   ],
   "source": [
    "from fuzzywuzzy import fuzz\n",
    "\n",
    "def match_company_names(name1, name2):\n",
    "    # Calculate Levenshtein distance\n",
    "    levenshtein_distance = fuzz.ratio(name1, name2)\n",
    "    \n",
    "    # You can also use other fuzz functions like partial_ratio, token_sort_ratio, etc.\n",
    "    # partial_ratio: Considers only a portion of the strings\n",
    "    # token_sort_ratio: Sorts the tokens in the strings before comparing\n",
    "    \n",
    "    # Example: partial_ratio_score = fuzz.partial_ratio(name1, name2)\n",
    "    # Example: token_sort_ratio_score = fuzz.token_sort_ratio(name1, name2)\n",
    "    \n",
    "    return levenshtein_distance\n",
    "\n",
    "# Example usage\n",
    "company1 = \"POWERgrip INC TEST 3 -  bcd TEST ENTITY\"\n",
    "company2 = \"POWERgrip INC TEST #7 - bcd TEST ENTITY\"\n",
    "\n",
    "match_score = match_company_names(company1, company2)\n",
    "print(\"Match Score:\", match_score)"
   ]
  },
  {
   "cell_type": "code",
   "execution_count": 3,
   "metadata": {},
   "outputs": [
    {
     "name": "stdout",
     "output_type": "stream",
     "text": [
      "Similarity Score: 0.3333333333333333\n"
     ]
    }
   ],
   "source": [
    "def generate_ngrams(text, n):\n",
    "    \"\"\"\n",
    "    Generate n-grams from the given text.\n",
    "\n",
    "    Args:\n",
    "    - text (str): The input text.\n",
    "    - n (int): The size of n-grams.\n",
    "\n",
    "    Returns:\n",
    "    - list: A list of n-grams.\n",
    "    \"\"\"\n",
    "    words = text.split()\n",
    "    ngrams = zip(*[words[i:] for i in range(n)])\n",
    "    return [\" \".join(ngram) for ngram in ngrams]\n",
    "\n",
    "def compare_company_names(name1, name2, n):\n",
    "    \"\"\"\n",
    "    Compare two company names using the n-grams algorithm.\n",
    "\n",
    "    Args:\n",
    "    - name1 (str): The first company name.\n",
    "    - name2 (str): The second company name.\n",
    "    - n (int): The size of n-grams.\n",
    "\n",
    "    Returns:\n",
    "    - float: The similarity score between the two company names.\n",
    "    \"\"\"\n",
    "    ngrams_name1 = set(generate_ngrams(name1, n))\n",
    "    ngrams_name2 = set(generate_ngrams(name2, n))\n",
    "    intersection = len(ngrams_name1.intersection(ngrams_name2))\n",
    "    union = len(ngrams_name1.union(ngrams_name2))\n",
    "    similarity_score = intersection / union if union > 0 else 0\n",
    "    return similarity_score\n",
    "\n",
    "# Example usage\n",
    "company1 = \"POWERgrip INC TEST 3 -  bcd TEST ENTITY\"\n",
    "company2 = \"POWERgrip INC TEST #7 - bcd TEST ENTITY\"\n",
    "\n",
    "n = 3  # Adjust the size of n-grams as needed\n",
    "\n",
    "similarity_score = compare_company_names(company1, company2, n)\n",
    "print(\"Similarity Score:\", similarity_score)\n"
   ]
  },
  {
   "cell_type": "code",
   "execution_count": 4,
   "metadata": {},
   "outputs": [
    {
     "name": "stdout",
     "output_type": "stream",
     "text": [
      "Similarity Score: 0.3333333333333333\n"
     ]
    }
   ],
   "source": [
    "def generate_ngrams(text, n):\n",
    "    \"\"\"\n",
    "    Generate n-grams from the given text.\n",
    "\n",
    "    Args:\n",
    "    - text (str): The input text.\n",
    "    - n (int): The size of n-grams.\n",
    "\n",
    "    Returns:\n",
    "    - list: A list of n-grams.\n",
    "    \"\"\"\n",
    "    words = text.split()\n",
    "    ngrams = zip(*[words[i:] for i in range(n)])\n",
    "    return [\" \".join(ngram) for ngram in ngrams]\n",
    "\n",
    "def compare_company_names(name1, name2, n):\n",
    "    \"\"\"\n",
    "    Compare two company names using the n-grams algorithm.\n",
    "\n",
    "    Args:\n",
    "    - name1 (str): The first company name.\n",
    "    - name2 (str): The second company name.\n",
    "    - n (int): The size of n-grams.\n",
    "\n",
    "    Returns:\n",
    "    - float: The similarity score between the two company names.\n",
    "    \"\"\"\n",
    "    ngrams_name1 = set(generate_ngrams(name1, n))\n",
    "    ngrams_name2 = set(generate_ngrams(name2, n))\n",
    "    intersection = len(ngrams_name1.intersection(ngrams_name2))\n",
    "    union = len(ngrams_name1.union(ngrams_name2))\n",
    "    similarity_score = intersection / union if union > 0 else 0\n",
    "    return similarity_score\n",
    "\n",
    "# Example usage\n",
    "company1 = \"POWERgrip INC TEST 3 -  bcd TEST ENTITY\"\n",
    "company2 = \"POWERgrip INC TEST #7 - bcd TEST ENTITY\"\n",
    "\n",
    "n = 3  # Adjust the size of n-grams as needed\n",
    "\n",
    "similarity_score = compare_company_names(company1, company2, n)\n",
    "print(\"Similarity Score:\", similarity_score)\n",
    "\n"
   ]
  },
  {
   "cell_type": "code",
   "execution_count": 5,
   "metadata": {},
   "outputs": [
    {
     "name": "stdout",
     "output_type": "stream",
     "text": [
      "Jaccard Similarity Score: 0.7142857142857143\n"
     ]
    }
   ],
   "source": [
    "def jaccard_similarity(set1, set2):\n",
    "    \"\"\"\n",
    "    Calculate the Jaccard similarity between two sets.\n",
    "\n",
    "    Args:\n",
    "    - set1 (set): The first set.\n",
    "    - set2 (set): The second set.\n",
    "\n",
    "    Returns:\n",
    "    - float: The Jaccard similarity score.\n",
    "    \"\"\"\n",
    "    intersection = len(set1.intersection(set2))\n",
    "    union = len(set1.union(set2))\n",
    "    similarity_score = intersection / union if union > 0 else 0\n",
    "    return similarity_score\n",
    "\n",
    "def preprocess_text(text):\n",
    "    \"\"\"\n",
    "    Preprocess the text by converting it to lowercase and removing punctuation.\n",
    "\n",
    "    Args:\n",
    "    - text (str): The input text.\n",
    "\n",
    "    Returns:\n",
    "    - str: The preprocessed text.\n",
    "    \"\"\"\n",
    "    text = text.lower()\n",
    "    text = ''.join(ch for ch in text if ch.isalnum() or ch.isspace())\n",
    "    return text\n",
    "\n",
    "def compare_company_names(name1, name2):\n",
    "    \"\"\"\n",
    "    Compare two company names using Jaccard similarity.\n",
    "\n",
    "    Args:\n",
    "    - name1 (str): The first company name.\n",
    "    - name2 (str): The second company name.\n",
    "\n",
    "    Returns:\n",
    "    - float: The Jaccard similarity score between the two company names.\n",
    "    \"\"\"\n",
    "    # Preprocess the company names\n",
    "    name1 = preprocess_text(name1)\n",
    "    name2 = preprocess_text(name2)\n",
    "\n",
    "    # Convert company names to sets of words\n",
    "    words1 = set(name1.split())\n",
    "    words2 = set(name2.split())\n",
    "\n",
    "    # Calculate Jaccard similarity\n",
    "    similarity_score = jaccard_similarity(words1, words2)\n",
    "    return similarity_score\n",
    "\n",
    "# Example usage\n",
    "company1 = \"POWERgrip INC TEST 3 -  bcd TEST ENTITY\"\n",
    "company2 = \"POWERgrip INC TEST #7 - bcd TEST ENTITY\"\n",
    "\n",
    "similarity_score = compare_company_names(company1, company2)\n",
    "print(\"Jaccard Similarity Score:\", similarity_score)\n"
   ]
  },
  {
   "cell_type": "code",
   "execution_count": 6,
   "metadata": {},
   "outputs": [
    {
     "name": "stdout",
     "output_type": "stream",
     "text": [
      "Cosine Similarity Score: 0.8888888888888888\n"
     ]
    }
   ],
   "source": [
    "from collections import Counter\n",
    "import math\n",
    "\n",
    "def cosine_similarity(vec1, vec2):\n",
    "    \"\"\"\n",
    "    Calculate the cosine similarity between two vectors.\n",
    "\n",
    "    Args:\n",
    "    - vec1 (dict): The first vector represented as a dictionary of word frequencies.\n",
    "    - vec2 (dict): The second vector represented as a dictionary of word frequencies.\n",
    "\n",
    "    Returns:\n",
    "    - float: The cosine similarity score.\n",
    "    \"\"\"\n",
    "    dot_product = sum(vec1[word] * vec2[word] for word in vec1 if word in vec2)\n",
    "    magnitude1 = math.sqrt(sum(vec1[word] ** 2 for word in vec1))\n",
    "    magnitude2 = math.sqrt(sum(vec2[word] ** 2 for word in vec2))\n",
    "    similarity_score = dot_product / (magnitude1 * magnitude2) if (magnitude1 * magnitude2) > 0 else 0\n",
    "    return similarity_score\n",
    "\n",
    "def preprocess_text(text):\n",
    "    \"\"\"\n",
    "    Preprocess the text by converting it to lowercase and removing punctuation.\n",
    "\n",
    "    Args:\n",
    "    - text (str): The input text.\n",
    "\n",
    "    Returns:\n",
    "    - str: The preprocessed text.\n",
    "    \"\"\"\n",
    "    text = text.lower()\n",
    "    text = ''.join(ch for ch in text if ch.isalnum() or ch.isspace())\n",
    "    return text\n",
    "\n",
    "def get_word_frequencies(text):\n",
    "    \"\"\"\n",
    "    Calculate word frequencies for the given text.\n",
    "\n",
    "    Args:\n",
    "    - text (str): The input text.\n",
    "\n",
    "    Returns:\n",
    "    - dict: A dictionary containing word frequencies.\n",
    "    \"\"\"\n",
    "    words = text.split()\n",
    "    word_counts = Counter(words)\n",
    "    return word_counts\n",
    "\n",
    "def compare_company_names(name1, name2):\n",
    "    \"\"\"\n",
    "    Compare two company names using cosine similarity.\n",
    "\n",
    "    Args:\n",
    "    - name1 (str): The first company name.\n",
    "    - name2 (str): The second company name.\n",
    "\n",
    "    Returns:\n",
    "    - float: The cosine similarity score between the two company names.\n",
    "    \"\"\"\n",
    "    # Preprocess the company names\n",
    "    name1 = preprocess_text(name1)\n",
    "    name2 = preprocess_text(name2)\n",
    "\n",
    "    # Get word frequencies for each company name\n",
    "    freq1 = get_word_frequencies(name1)\n",
    "    freq2 = get_word_frequencies(name2)\n",
    "\n",
    "    # Calculate cosine similarity\n",
    "    similarity_score = cosine_similarity(freq1, freq2)\n",
    "    return similarity_score\n",
    "\n",
    "# Example usage\n",
    "company1 = \"POWERgrip INC TEST 3 -  bcd TEST ENTITY\"\n",
    "company2 = \"POWERgrip INC TEST #7 - bcd TEST ENTITY\"\n",
    "\n",
    "similarity_score = compare_company_names(company1, company2)\n",
    "print(\"Cosine Similarity Score:\", similarity_score)\n"
   ]
  },
  {
   "cell_type": "code",
   "execution_count": 7,
   "metadata": {},
   "outputs": [
    {
     "name": "stdout",
     "output_type": "stream",
     "text": [
      "Cosine Similarity Score: 0.9999999999999998\n"
     ]
    }
   ],
   "source": [
    "from sklearn.feature_extraction.text import CountVectorizer\n",
    "from sklearn.metrics.pairwise import cosine_similarity\n",
    "\n",
    "def preprocess_text(text):\n",
    "    \"\"\"\n",
    "    Preprocess the text by converting it to lowercase and removing punctuation.\n",
    "\n",
    "    Args:\n",
    "    - text (str): The input text.\n",
    "\n",
    "    Returns:\n",
    "    - str: The preprocessed text.\n",
    "    \"\"\"\n",
    "    text = text.lower()\n",
    "    text = ''.join(ch for ch in text if ch.isalnum() or ch.isspace())\n",
    "    return text\n",
    "\n",
    "def compare_company_names(name1, name2):\n",
    "    \"\"\"\n",
    "    Compare two company names using cosine similarity.\n",
    "\n",
    "    Args:\n",
    "    - name1 (str): The first company name.\n",
    "    - name2 (str): The second company name.\n",
    "\n",
    "    Returns:\n",
    "    - float: The cosine similarity score between the two company names.\n",
    "    \"\"\"\n",
    "    # Preprocess the company names\n",
    "    name1 = preprocess_text(name1)\n",
    "    name2 = preprocess_text(name2)\n",
    "\n",
    "    # Create CountVectorizer to convert company names to vectors of word frequencies\n",
    "    vectorizer = CountVectorizer()\n",
    "    name_vectors = vectorizer.fit_transform([name1, name2])\n",
    "\n",
    "    # Compute cosine similarity between the two vectors\n",
    "    similarity_score = cosine_similarity(name_vectors)[0, 1]\n",
    "    return similarity_score\n",
    "\n",
    "# Example usage\n",
    "company1 = \"POWERgrip INC TEST 3 -  bcd TEST ENTITY\"\n",
    "company2 = \"POWERgrip INC TEST #7 - bcd TEST ENTITY\"\n",
    "\n",
    "similarity_score = compare_company_names(company1, company2)\n",
    "print(\"Cosine Similarity Score:\", similarity_score)\n"
   ]
  },
  {
   "cell_type": "code",
   "execution_count": 8,
   "metadata": {},
   "outputs": [
    {
     "ename": "ImportError",
     "evalue": "cannot import name 'softcossim' from 'gensim.matutils' (/Library/Frameworks/Python.framework/Versions/3.11/lib/python3.11/site-packages/gensim/matutils.py)",
     "output_type": "error",
     "traceback": [
      "\u001b[0;31m---------------------------------------------------------------------------\u001b[0m",
      "\u001b[0;31mImportError\u001b[0m                               Traceback (most recent call last)",
      "Cell \u001b[0;32mIn[8], line 1\u001b[0m\n\u001b[0;32m----> 1\u001b[0m \u001b[38;5;28;01mfrom\u001b[39;00m \u001b[38;5;21;01mgensim\u001b[39;00m\u001b[38;5;21;01m.\u001b[39;00m\u001b[38;5;21;01mmatutils\u001b[39;00m \u001b[38;5;28;01mimport\u001b[39;00m softcossim\n\u001b[1;32m      2\u001b[0m \u001b[38;5;28;01mfrom\u001b[39;00m \u001b[38;5;21;01mgensim\u001b[39;00m \u001b[38;5;28;01mimport\u001b[39;00m corpora\n\u001b[1;32m      3\u001b[0m \u001b[38;5;28;01mfrom\u001b[39;00m \u001b[38;5;21;01mgensim\u001b[39;00m\u001b[38;5;21;01m.\u001b[39;00m\u001b[38;5;21;01mutils\u001b[39;00m \u001b[38;5;28;01mimport\u001b[39;00m simple_preprocess\n",
      "\u001b[0;31mImportError\u001b[0m: cannot import name 'softcossim' from 'gensim.matutils' (/Library/Frameworks/Python.framework/Versions/3.11/lib/python3.11/site-packages/gensim/matutils.py)"
     ]
    }
   ],
   "source": [
    "from gensim.matutils import softcossim\n",
    "from gensim import corpora\n",
    "from gensim.utils import simple_preprocess\n",
    "\n",
    "def preprocess_text(text):\n",
    "    \"\"\"\n",
    "    Preprocess the text by converting it to lowercase and removing punctuation.\n",
    "\n",
    "    Args:\n",
    "    - text (str): The input text.\n",
    "\n",
    "    Returns:\n",
    "    - str: The preprocessed text.\n",
    "    \"\"\"\n",
    "    text = text.lower()\n",
    "    text = ''.join(ch for ch in text if ch.isalnum() or ch.isspace())\n",
    "    return text\n",
    "\n",
    "def compare_company_names(name1, name2):\n",
    "    \"\"\"\n",
    "    Compare two company names using cosine similarity.\n",
    "\n",
    "    Args:\n",
    "    - name1 (str): The first company name.\n",
    "    - name2 (str): The second company name.\n",
    "\n",
    "    Returns:\n",
    "    - float: The cosine similarity score between the two company names.\n",
    "    \"\"\"\n",
    "    # Preprocess the company names\n",
    "    name1 = preprocess_text(name1)\n",
    "    name2 = preprocess_text(name2)\n",
    "\n",
    "    # Tokenize the preprocessed company names\n",
    "    tokens1 = simple_preprocess(name1)\n",
    "    tokens2 = simple_preprocess(name2)\n",
    "\n",
    "    # Create dictionary and corpus\n",
    "    dictionary = corpora.Dictionary([tokens1, tokens2])\n",
    "    corpus = [dictionary.doc2bow(tokens) for tokens in [tokens1, tokens2]]\n",
    "\n",
    "    # Compute Soft Cosine Similarity\n",
    "    similarity_matrix = softcossim(corpus, corpus, dictionary)\n",
    "    similarity_score = similarity_matrix[0, 1]\n",
    "    return similarity_score\n",
    "\n",
    "# Example usage\n",
    "company1 = \"Acme Corporation\"\n",
    "company2 = \"Acme Corp.\"\n",
    "\n",
    "similarity_score = compare_company_names(company1, company2)\n",
    "print(\"Cosine Similarity Score:\", similarity_score)\n"
   ]
  },
  {
   "cell_type": "code",
   "execution_count": 9,
   "metadata": {},
   "outputs": [
    {
     "name": "stdout",
     "output_type": "stream",
     "text": [
      "['ArithmeticError', 'AssertionError', 'AttributeError', 'BaseException', 'BaseExceptionGroup', 'BlockingIOError', 'BrokenPipeError', 'BufferError', 'BytesWarning', 'ChildProcessError', 'ConnectionAbortedError', 'ConnectionError', 'ConnectionRefusedError', 'ConnectionResetError', 'DeprecationWarning', 'EOFError', 'Ellipsis', 'EncodingWarning', 'EnvironmentError', 'Exception', 'ExceptionGroup', 'False', 'FileExistsError', 'FileNotFoundError', 'FloatingPointError', 'FutureWarning', 'GeneratorExit', 'IOError', 'ImportError', 'ImportWarning', 'IndentationError', 'IndexError', 'InterruptedError', 'IsADirectoryError', 'KeyError', 'KeyboardInterrupt', 'LookupError', 'MemoryError', 'ModuleNotFoundError', 'NameError', 'None', 'NotADirectoryError', 'NotImplemented', 'NotImplementedError', 'OSError', 'OverflowError', 'PendingDeprecationWarning', 'PermissionError', 'ProcessLookupError', 'RecursionError', 'ReferenceError', 'ResourceWarning', 'RuntimeError', 'RuntimeWarning', 'StopAsyncIteration', 'StopIteration', 'SyntaxError', 'SyntaxWarning', 'SystemError', 'SystemExit', 'TabError', 'TimeoutError', 'True', 'TypeError', 'UnboundLocalError', 'UnicodeDecodeError', 'UnicodeEncodeError', 'UnicodeError', 'UnicodeTranslateError', 'UnicodeWarning', 'UserWarning', 'ValueError', 'Warning', 'ZeroDivisionError', '__IPYTHON__', '__build_class__', '__debug__', '__doc__', '__import__', '__loader__', '__name__', '__package__', '__pybind11_internals_v4_clang_libcpp_cxxabi1002__', '__spec__', 'abs', 'aiter', 'all', 'anext', 'any', 'ascii', 'bin', 'bool', 'breakpoint', 'bytearray', 'bytes', 'callable', 'chr', 'classmethod', 'compile', 'complex', 'copyright', 'credits', 'delattr', 'dict', 'dir', 'display', 'divmod', 'enumerate', 'eval', 'exec', 'execfile', 'filter', 'float', 'format', 'frozenset', 'get_ipython', 'getattr', 'globals', 'hasattr', 'hash', 'help', 'hex', 'id', 'input', 'int', 'isinstance', 'issubclass', 'iter', 'len', 'license', 'list', 'locals', 'map', 'max', 'memoryview', 'min', 'next', 'object', 'oct', 'open', 'ord', 'pow', 'print', 'property', 'range', 'repr', 'reversed', 'round', 'runfile', 'set', 'setattr', 'slice', 'sorted', 'staticmethod', 'str', 'sum', 'super', 'tuple', 'type', 'vars', 'zip']\n"
     ]
    }
   ],
   "source": [
    "print(dir(__builtins__))\n"
   ]
  }
 ],
 "metadata": {
  "kernelspec": {
   "display_name": "base",
   "language": "python",
   "name": "python3"
  },
  "language_info": {
   "codemirror_mode": {
    "name": "ipython",
    "version": 3
   },
   "file_extension": ".py",
   "mimetype": "text/x-python",
   "name": "python",
   "nbconvert_exporter": "python",
   "pygments_lexer": "ipython3",
   "version": "3.11.4"
  }
 },
 "nbformat": 4,
 "nbformat_minor": 2
}
